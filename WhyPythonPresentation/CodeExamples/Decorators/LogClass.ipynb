{
 "cells": [
  {
   "cell_type": "code",
   "execution_count": 1,
   "metadata": {
    "collapsed": false
   },
   "outputs": [
    {
     "name": "stdout",
     "output_type": "stream",
     "text": [
      "\n",
      "NewClass.__init__\n",
      "A.__init__\n",
      "log_method > wrapper\n",
      "a\n",
      "log_method > wrapper\n",
      "b\n"
     ]
    }
   ],
   "source": [
    "#!/usr/bin/env python\n",
    "\n",
    "# __future__ module helps with Python 2 to 3 conversions\n",
    "\n",
    "# division uses Python 3's division operator which always does float division\n",
    "# therefore 5 / 2 = 2.5 instead of 2\n",
    "# for integer division use //, 5 // 2 = 2\n",
    "from __future__ import division\n",
    "\n",
    "# print_function uses Python 3's print function which allows us to control\n",
    "# what is printed at the end using end:\n",
    "#          print('hello world', end='!@#') => hello world!@#\n",
    "from __future__ import print_function\n",
    "\n",
    "\n",
    "DEBUG = True\n",
    "\n",
    "\n",
    "def log_methods(debugging):\n",
    "    def class_decorator(cls):\n",
    "        def log_method(f):\n",
    "            def wrapper(*args, **kwargs):\n",
    "                print('log_method > wrapper')\n",
    "                return f(*args, **kwargs)\n",
    "            return wrapper\n",
    "\n",
    "        class NewClass(cls):\n",
    "            def __init__(self, *args, **kwargs):\n",
    "                ''' Provides constructor pre/post processing if needed '''\n",
    "                print('NewClass.__init__')\n",
    "                super(NewClass, self).__init__(*args, **kwargs)\n",
    "\n",
    "            def __getattribute__(self, attr_name):\n",
    "                obj = super(NewClass, self).__getattribute__(attr_name)\n",
    "                if debugging and hasattr(obj, '__call__'):\n",
    "                    obj = log_method(obj)\n",
    "                return obj\n",
    "\n",
    "        return NewClass\n",
    "    return class_decorator\n",
    "\n",
    "\n",
    "\n",
    "@log_methods(DEBUG)\n",
    "class A(object):\n",
    "    def __init__(self):\n",
    "        print('A.__init__')\n",
    "\n",
    "    def a(self):\n",
    "        print('a')\n",
    "\n",
    "    def b(self):\n",
    "        print('b')\n",
    "\n",
    "print()\n",
    "a = A()\n",
    "a.a()\n",
    "a.b()"
   ]
  },
  {
   "cell_type": "code",
   "execution_count": null,
   "metadata": {
    "collapsed": false
   },
   "outputs": [],
   "source": []
  }
 ],
 "metadata": {
  "kernelspec": {
   "display_name": "Python 2",
   "language": "python",
   "name": "python2"
  },
  "language_info": {
   "codemirror_mode": {
    "name": "ipython",
    "version": 2
   },
   "file_extension": ".py",
   "mimetype": "text/x-python",
   "name": "python",
   "nbconvert_exporter": "python",
   "pygments_lexer": "ipython2",
   "version": "2.7.6"
  }
 },
 "nbformat": 4,
 "nbformat_minor": 0
}
