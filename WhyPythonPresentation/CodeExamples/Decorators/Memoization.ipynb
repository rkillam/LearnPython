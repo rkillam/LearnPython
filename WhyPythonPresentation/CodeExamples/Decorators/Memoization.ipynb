{
 "metadata": {
  "name": "",
  "signature": "sha256:a24bcbf2ccd9f6a6432ceb56c40e717f3d796e39250621eccc42adfeba3d41f7"
 },
 "nbformat": 3,
 "nbformat_minor": 0,
 "worksheets": [
  {
   "cells": [
    {
     "cell_type": "code",
     "collapsed": false,
     "input": [
      "#!/usr/bin/env python\n",
      "\n",
      "# __future__ module helps with Python 2 to 3 conversions\n",
      "\n",
      "# division uses Python 3's division operator which always does float division\n",
      "# therefore 5 / 2 = 2.5 instead of 2\n",
      "# for integer division use //, 5 // 2 = 2\n",
      "from __future__ import division\n",
      "\n",
      "# print_function uses Python 3's print function which allows us to control\n",
      "# what is printed at the end using end:\n",
      "#          print('hello world', end='!@#') => hello world!@#\n",
      "from __future__ import print_function\n",
      "\n",
      "from functools import wraps\n",
      "\n",
      "import time\n",
      "\n",
      "def timeit(f, should_time=True):\n",
      "    def wrap(*args, **kwargs):\n",
      "        t1 = time.time()\n",
      "        ret = f(*args, **kwargs)\n",
      "        t2 = time.time()\n",
      "        print(\"{} took:\\t{}s\\n\".format(f.__name__, (t2 - t1)))\n",
      "\n",
      "        return ret\n",
      "\n",
      "    return wrap if should_time else r\n",
      "\n",
      "\n",
      "def memoize(f):\n",
      "    cache = {}\n",
      "\n",
      "    @wraps(f)\n",
      "    def wrapper(*args, **kwargs):\n",
      "        key = str(args) + str(kwargs)\n",
      "        if key not in cache.keys():\n",
      "            cache[key] = f(*args, **kwargs)\n",
      "\n",
      "        return cache[key]\n",
      "    return wrapper\n",
      "\n",
      "\n",
      "@timeit\n",
      "@memoize\n",
      "def fib(n):\n",
      "    a, b = 0, 1\n",
      "    for i in xrange(n, 0, -1):\n",
      "        a, b = b, a+b\n",
      "\n",
      "    return a\n",
      "\n",
      "_ = fib(500000)\n",
      "_ = fib(500000)"
     ],
     "language": "python",
     "metadata": {},
     "outputs": [
      {
       "output_type": "stream",
       "stream": "stdout",
       "text": [
        "fib took:\t5.74351000786s\n",
        "\n",
        "fib took:\t2.19345092773e-05s\n",
        "\n"
       ]
      }
     ],
     "prompt_number": 1
    },
    {
     "cell_type": "code",
     "collapsed": false,
     "input": [],
     "language": "python",
     "metadata": {},
     "outputs": []
    }
   ],
   "metadata": {}
  }
 ]
}