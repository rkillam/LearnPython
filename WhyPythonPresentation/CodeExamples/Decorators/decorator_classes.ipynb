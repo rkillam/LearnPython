{
 "cells": [
  {
   "cell_type": "code",
   "execution_count": 1,
   "metadata": {
    "collapsed": false
   },
   "outputs": [
    {
     "name": "stdout",
     "output_type": "stream",
     "text": [
      "in __init__\n",
      "arged __init__: ('A', 'B', 'C', 'HELLO WORLD')\n",
      "arged_decorator __call__:\n",
      "\t<function new_foo at 0x7fddb4a219b0>\n",
      "\t('A', 'B', 'C', 'HELLO WORLD')\n",
      "[0, 1, 2, 3, 4, 5, 6, 7, 8, 9]\n",
      "15\n",
      "[0, 1, 2, 3, 4, 5, 6, 7, 8, 9, 10, 11, 12, 13, 14]\n",
      "16\n",
      "\n",
      "[0, 1, 2, 3, 4, 5, 6, 7, 8, 9, 10, 11, 12, 13, 14]\n",
      "20\n",
      "[0, 1, 2, 3, 4, 5, 6, 7, 8, 9, 10, 11, 12, 13, 14, 15, 16, 17, 18, 19]\n",
      "21\n",
      "\n",
      "\n",
      "\n",
      "wrapper\n",
      "\t<function new_foo at 0x7fddb4a219b0>\n",
      "\t('A', 'B', 'C', 'HELLO WORLD')\n",
      "\t(1, 2, 3)\n",
      "6\n",
      "\n",
      "wrapper\n",
      "\t<function new_foo at 0x7fddb4a219b0>\n",
      "\t('A', 'B', 'C', 'HELLO WORLD')\n",
      "\t(2, 3, 4)\n",
      "9\n"
     ]
    }
   ],
   "source": [
    "#!/usr/bin/env python\n",
    "\n",
    "# __future__ module helps with Python 2 to 3 conversions\n",
    "\n",
    "# division uses Python 3's division operator which always does float division\n",
    "# therefore 5 / 2 = 2.5 instead of 2\n",
    "# for integer division use //, 5 // 2 = 2\n",
    "from __future__ import division\n",
    "\n",
    "# print_function uses Python 3's print function which allows us to control\n",
    "# what is printed at the end using end:\n",
    "#          print('hello world', end='!@#') => hello world!@#\n",
    "from __future__ import print_function\n",
    "\n",
    "class decorator():\n",
    "    def __init__(self, f):\n",
    "        print(\"in __init__\")\n",
    "        self.a = range(10)\n",
    "        self.f = f\n",
    "\n",
    "    def __call__(self, n):\n",
    "        print(self.a)\n",
    "        print(n)\n",
    "        if n not in self.a:\n",
    "            self.a = range(n)\n",
    "        print(self.a)\n",
    "        return self.f(n)\n",
    "\n",
    "\n",
    "class arged_decorator():\n",
    "    def __init__(self, *args):\n",
    "        print('arged __init__: {}'.format(args))\n",
    "        self.args = args\n",
    "\n",
    "    def __call__(self, f):\n",
    "        print('arged_decorator __call__:\\n\\t{}\\n\\t{}'.format(f, self.args))\n",
    "\n",
    "        def wrapper(*subargs):\n",
    "            print('wrapper\\n\\t{}\\n\\t{}\\n\\t{}'.format(f, self.args, subargs))\n",
    "            return f(*subargs)\n",
    "        return wrapper\n",
    "\n",
    "\n",
    "@decorator\n",
    "def foo(n):\n",
    "    return n + 1\n",
    "\n",
    "\n",
    "@arged_decorator('A', 'B', 'C', 'HELLO WORLD')\n",
    "def new_foo(a, b, c):\n",
    "    return a + b + c\n",
    "\n",
    "\n",
    "print(foo(15))\n",
    "print()\n",
    "print(foo(20))\n",
    "\n",
    "print('\\n\\n')\n",
    "\n",
    "print(new_foo(1, 2, 3))\n",
    "print()\n",
    "print(new_foo(2, 3, 4))"
   ]
  },
  {
   "cell_type": "code",
   "execution_count": null,
   "metadata": {
    "collapsed": false
   },
   "outputs": [],
   "source": []
  }
 ],
 "metadata": {
  "kernelspec": {
   "display_name": "Python 2",
   "language": "python",
   "name": "python2"
  },
  "language_info": {
   "codemirror_mode": {
    "name": "ipython",
    "version": 2
   },
   "file_extension": ".py",
   "mimetype": "text/x-python",
   "name": "python",
   "nbconvert_exporter": "python",
   "pygments_lexer": "ipython2",
   "version": "2.7.6"
  }
 },
 "nbformat": 4,
 "nbformat_minor": 0
}
