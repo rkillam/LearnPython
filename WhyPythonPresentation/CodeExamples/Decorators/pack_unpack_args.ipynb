{
 "metadata": {
  "name": "",
  "signature": "sha256:aeb009e99f7941cca35225e275b5982a833414d67c9bd0d10a9ccc8f9005d721"
 },
 "nbformat": 3,
 "nbformat_minor": 0,
 "worksheets": [
  {
   "cells": [
    {
     "cell_type": "code",
     "collapsed": false,
     "input": [
      "#!/usr/bin/env python\n",
      "\n",
      "# __future__ module helps with Python 2 to 3 conversions\n",
      "\n",
      "# division uses Python 3's division operator which always does float division\n",
      "# therefore 5 / 2 = 2.5 instead of 2\n",
      "# for integer division use //, 5 // 2 = 2\n",
      "from __future__ import division\n",
      "\n",
      "# print_function uses Python 3's print function which allows us to control\n",
      "# what is printed at the end using end:\n",
      "#          print('hello world', end='!@#') => hello world!@#\n",
      "from __future__ import print_function\n",
      "\n",
      "\n",
      "def outer(f):\n",
      "    def inner(*args, **kwargs):\n",
      "        return f(*args, **kwargs) + 1\n",
      "    return inner\n",
      "\n",
      "\n",
      "def foo(x):\n",
      "    return 2 * x\n",
      "\n",
      "\n",
      "foo1 = outer(foo)\n",
      "print(foo1(2))\n",
      "\n",
      "\n",
      "def test(*args, **kwargs):\n",
      "    print(args)\n",
      "    print(kwargs)\n",
      "\n",
      "\n",
      "print()\n",
      "test(1, 2, 3, a='A', b='B')"
     ],
     "language": "python",
     "metadata": {},
     "outputs": [
      {
       "output_type": "stream",
       "stream": "stdout",
       "text": [
        "5\n",
        "\n",
        "(1, 2, 3)\n",
        "{'a': 'A', 'b': 'B'}\n"
       ]
      }
     ],
     "prompt_number": 1
    },
    {
     "cell_type": "code",
     "collapsed": false,
     "input": [],
     "language": "python",
     "metadata": {},
     "outputs": []
    }
   ],
   "metadata": {}
  }
 ]
}