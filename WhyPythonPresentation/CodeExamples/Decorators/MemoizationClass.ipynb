{
 "metadata": {
  "name": "",
  "signature": "sha256:5c2bf1bde71ed830a796723f209acf607748106ccddfc2a55b21982f8758064a"
 },
 "nbformat": 3,
 "nbformat_minor": 0,
 "worksheets": [
  {
   "cells": [
    {
     "cell_type": "code",
     "collapsed": false,
     "input": [
      "#!/usr/bin/env python\n",
      "\n",
      "# __future__ module helps with Python 2 to 3 conversions\n",
      "\n",
      "# division uses Python 3's division operator which always does float division\n",
      "# therefore 5 / 2 = 2.5 instead of 2\n",
      "# for integer division use //, 5 // 2 = 2\n",
      "from __future__ import division\n",
      "\n",
      "# print_function uses Python 3's print function which allows us to control\n",
      "# what is printed at the end using end:\n",
      "#          print('hello world', end='!@#') => hello world!@#\n",
      "from __future__ import print_function\n",
      "\n",
      "from functools import update_wrapper\n",
      "\n",
      "import time\n",
      "\n",
      "def timeit(f, should_time=True):\n",
      "    def wrap(*args, **kwargs):\n",
      "        t1 = time.time()\n",
      "        ret = f(*args, **kwargs)\n",
      "        t2 = time.time()\n",
      "        print(\"{} took:\\t{}s\\n\".format(f.__name__, (t2 - t1)))\n",
      "\n",
      "        return ret\n",
      "\n",
      "    return wrap if should_time else r\n",
      "\n",
      "\n",
      "class Memoize(object):\n",
      "    def __init__(self, f):\n",
      "        self.f = f\n",
      "        self.cache = {}\n",
      "        update_wrapper(self, f)\n",
      "\n",
      "    def __call__(self, *args, **kwargs):\n",
      "        key = str(args) + str(kwargs)\n",
      "        if key not in self.cache.keys():\n",
      "            self.cache[key] = self.f(*args, **kwargs)\n",
      "\n",
      "        return self.cache[key]\n",
      "\n",
      "\n",
      "@timeit\n",
      "@Memoize\n",
      "def fib(n):\n",
      "    a, b = 0, 1\n",
      "    for i in xrange(n, 0, -1):\n",
      "        a, b = b, a+b\n",
      "\n",
      "    return a\n",
      "\n",
      "_ = fib(500000)\n",
      "_ = fib(500000)\n"
     ],
     "language": "python",
     "metadata": {},
     "outputs": [
      {
       "output_type": "stream",
       "stream": "stdout",
       "text": [
        "fib took:\t5.73974585533s\n",
        "\n",
        "fib took:\t1.4066696167e-05s\n",
        "\n"
       ]
      }
     ],
     "prompt_number": 2
    },
    {
     "cell_type": "code",
     "collapsed": false,
     "input": [],
     "language": "python",
     "metadata": {},
     "outputs": []
    }
   ],
   "metadata": {}
  }
 ]
}