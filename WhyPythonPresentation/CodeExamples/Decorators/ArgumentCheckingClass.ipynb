{
 "metadata": {
  "name": "",
  "signature": "sha256:8daf1c6157b913d9638d7f047a31d75011128488c0bf9f189ca6bbb26f2ea4f2"
 },
 "nbformat": 3,
 "nbformat_minor": 0,
 "worksheets": [
  {
   "cells": [
    {
     "cell_type": "code",
     "collapsed": false,
     "input": [
      "#!/usr/bin/env python\n",
      "\n",
      "# __future__ module helps with Python 2 to 3 conversions\n",
      "\n",
      "# division uses Python 3's division operator which always does float division\n",
      "# therefore 5 / 2 = 2.5 instead of 2\n",
      "# for integer division use //, 5 // 2 = 2\n",
      "from __future__ import division\n",
      "\n",
      "# print_function uses Python 3's print function which allows us to control\n",
      "# what is printed at the end using end:\n",
      "#          print('hello world', end='!@#') => hello world!@#\n",
      "from __future__ import print_function\n",
      "\n",
      "# When you decorate a function/class you change its meta data (name, module, etc)\n",
      "# By using the update_wrapper function it keeps the original objects metadata\n",
      "from functools import update_wrapper\n",
      "\n",
      "\n",
      "class NonNegArgs(object):\n",
      "    def __init__(self, f):\n",
      "        self.f = f\n",
      "        update_wrapper(self, f)\n",
      "\n",
      "    def __call__(self, *args, **kwargs):\n",
      "        abs_args = []\n",
      "        for arg in args:\n",
      "            abs_args.append(abs(arg))\n",
      "\n",
      "        for key, arg in kwargs.values():\n",
      "            kwargs[key] = abs(arg)\n",
      "\n",
      "        return self.f(*abs_args, **kwargs)\n",
      "\n",
      "\n",
      "@NonNegArgs\n",
      "def add(x, y):\n",
      "    return x + y\n",
      "\n",
      "print(add.__name__)\n",
      "print(add.__module__)\n",
      "\n",
      "print()\n",
      "\n",
      "x, y = 1, 2\n",
      "print('add({}, {}) -> {} == {}'.format(x, y, add(x, y), 3))\n",
      "\n",
      "x, y = -1, 2\n",
      "print('add({}, {}) -> {} == {}'.format(x, y, add(x, y), 3))\n",
      "\n",
      "x, y = -1, -2\n",
      "print('add({}, {}) -> {} == {}'.format(x, y, add(x, y), 3))"
     ],
     "language": "python",
     "metadata": {},
     "outputs": [
      {
       "output_type": "stream",
       "stream": "stdout",
       "text": [
        "add\n",
        "__main__\n",
        "\n",
        "add(1, 2) -> 3 == 3\n",
        "add(-1, 2) -> 3 == 3\n",
        "add(-1, -2) -> 3 == 3\n"
       ]
      }
     ],
     "prompt_number": 1
    },
    {
     "cell_type": "code",
     "collapsed": false,
     "input": [],
     "language": "python",
     "metadata": {},
     "outputs": []
    }
   ],
   "metadata": {}
  }
 ]
}