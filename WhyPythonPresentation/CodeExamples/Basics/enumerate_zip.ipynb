{
 "cells": [
  {
   "cell_type": "code",
   "execution_count": 3,
   "metadata": {
    "collapsed": false
   },
   "outputs": [
    {
     "name": "stdout",
     "output_type": "stream",
     "text": [
      "0: 10 15\n",
      "1: 11 16\n",
      "2: 12 17\n",
      "3: 13 18\n",
      "4: 14 19\n"
     ]
    }
   ],
   "source": [
    "#!/usr/bin/env python\n",
    "\n",
    "# __future__ module helps with Python 2 to 3 conversions\n",
    "\n",
    "# division uses Python 3's division operator which always does float division\n",
    "# therefore 5 / 2 = 2.5 instead of 2\n",
    "# for integer division use //, 5 // 2 = 2\n",
    "from __future__ import division\n",
    "\n",
    "# print_function uses Python 3's print function which allows us to control\n",
    "# what is printed at the end using end:\n",
    "#          print('hello world', end='!@#') => hello world!@#\n",
    "from __future__ import print_function\n",
    "\n",
    "A = range(10, 15)  # Creates a list from 10 - 14 inclusive\n",
    "B = range(15, 20)\n",
    "\n",
    "# Pythonic way to iterate over multiple lists while tracking the index\n",
    "# zip(list1, list2, ...) puts all elements of each list into a list of tuples\n",
    "#    [(list1_elem1, list2_elem1, ..., listn_elem1), (list1_elem2, list2_elem2, ...)]\n",
    "# enumerate takes each element of the iterable argument and pairs it with a counter\n",
    "#    [(0, elem1), (1, elem2), ...]\n",
    "for i, (a, b) in enumerate(zip(A, B)):\n",
    "    print('{}: {:02} {:02}'.format(i, a, b))\n"
   ]
  },
  {
   "cell_type": "code",
   "execution_count": null,
   "metadata": {
    "collapsed": false
   },
   "outputs": [],
   "source": []
  }
 ],
 "metadata": {
  "kernelspec": {
   "display_name": "Python 2",
   "language": "python",
   "name": "python2"
  },
  "language_info": {
   "codemirror_mode": {
    "name": "ipython",
    "version": 2
   },
   "file_extension": ".py",
   "mimetype": "text/x-python",
   "name": "python",
   "nbconvert_exporter": "python",
   "pygments_lexer": "ipython2",
   "version": "2.7.6"
  }
 },
 "nbformat": 4,
 "nbformat_minor": 0
}
