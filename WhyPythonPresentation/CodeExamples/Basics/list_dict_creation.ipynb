{
 "metadata": {
  "name": "",
  "signature": "sha256:62d246f0b6c5db4ec50721b9e43db2e283c6a38b15c8ce9e36dce8b47918b71b"
 },
 "nbformat": 3,
 "nbformat_minor": 0,
 "worksheets": [
  {
   "cells": [
    {
     "cell_type": "code",
     "collapsed": false,
     "input": [
      "#!/usr/bin/env python\n",
      "\n",
      "# __future__ module helps with Python 2 to 3 conversions\n",
      "\n",
      "# division uses Python 3's division operator which always does float division\n",
      "# therefore 5 / 2 = 2.5 instead of 2\n",
      "# for integer division use //, 5 // 2 = 2\n",
      "from __future__ import division\n",
      "\n",
      "# print_function uses Python 3's print function which allows us to control\n",
      "# what is printed at the end using end:\n",
      "#          print('hello world', end='!@#') => hello world!@#\n",
      "from __future__ import print_function\n",
      "\n",
      "\n",
      "l = [['hello'] * 5] * 5\n",
      "for row in l:\n",
      "    print('[', end='')\n",
      "    for col in row:\n",
      "        print('{}'.format(col), end=', ')\n",
      "    print('],')\n",
      "\n",
      "print()\n",
      "\n",
      "\n",
      "print([2**i for i in xrange(20) if i & 1 == 0])\n",
      "print({i: 2**i for i in xrange(20) if i & 1 == 0})"
     ],
     "language": "python",
     "metadata": {},
     "outputs": [
      {
       "output_type": "stream",
       "stream": "stdout",
       "text": [
        "[hello, hello, hello, hello, hello, ],\n",
        "[hello, hello, hello, hello, hello, ],\n",
        "[hello, hello, hello, hello, hello, ],\n",
        "[hello, hello, hello, hello, hello, ],\n",
        "[hello, hello, hello, hello, hello, ],\n",
        "\n",
        "[1, 4, 16, 64, 256, 1024, 4096, 16384, 65536, 262144]\n",
        "{0: 1, 2: 4, 4: 16, 6: 64, 8: 256, 10: 1024, 12: 4096, 14: 16384, 16: 65536, 18: 262144}\n"
       ]
      }
     ],
     "prompt_number": 4
    },
    {
     "cell_type": "code",
     "collapsed": false,
     "input": [],
     "language": "python",
     "metadata": {},
     "outputs": []
    }
   ],
   "metadata": {}
  }
 ]
}