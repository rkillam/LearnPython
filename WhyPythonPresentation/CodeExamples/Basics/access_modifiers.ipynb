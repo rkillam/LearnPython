{
 "metadata": {
  "name": "",
  "signature": "sha256:378d002f39bc524d8a02988e8609f1daf6186a06af7de093eefb1d5fa0921d90"
 },
 "nbformat": 3,
 "nbformat_minor": 0,
 "worksheets": [
  {
   "cells": [
    {
     "cell_type": "code",
     "collapsed": false,
     "input": [
      "#!/usr/bin/env python\n",
      "\n",
      "# __future__ module helps with Python 2 to 3 conversions\n",
      "\n",
      "# division uses Python 3's division operator which always does float division\n",
      "# therefore 5 / 2 = 2.5 instead of 2\n",
      "# for integer division use //, 5 // 2 = 2\n",
      "from __future__ import division\n",
      "\n",
      "# print_function uses Python 3's print function which allows us to control\n",
      "# what is printed at the end using end:\n",
      "#          print('hello world', end='!@#') => hello world!@#\n",
      "from __future__ import print_function\n",
      "\n",
      "\n",
      "class Test(object):  # className(parentClass) always put object for new style class objects\n",
      "    def __init__(self):  # __init__ is essentially the constructor\n",
      "        self.a = 'public'\n",
      "        self.type_ = 'public but avoiding name conflict'\n",
      "        self._a = 'weakly private, still accessible but standards would dictate that you not use this'\n",
      "        self.__a = 'this is hidden, examine the name difference, it\\'s supposed to be __a'\n",
      "\n",
      "\n",
      "def main():\n",
      "    t = Test()\n",
      "    for k, v in t.__dict__.items():\n",
      "        print('{0: <10}: {1}'.format(k, v))\n",
      "\n",
      "\n",
      "if __name__ == '__main__':  # ensures main is only executed if this file is executed\n",
      "    main()"
     ],
     "language": "python",
     "metadata": {},
     "outputs": [
      {
       "output_type": "stream",
       "stream": "stdout",
       "text": [
        "a         : public\n",
        "type_     : public but avoiding name conflict\n",
        "_Test__a  : this is hidden, examine the name difference, it's supposed to be __a\n",
        "_a        : weakly private, still accessible but standards would dictate that you not use this\n"
       ]
      }
     ],
     "prompt_number": 1
    },
    {
     "cell_type": "code",
     "collapsed": false,
     "input": [],
     "language": "python",
     "metadata": {},
     "outputs": []
    }
   ],
   "metadata": {}
  }
 ]
}