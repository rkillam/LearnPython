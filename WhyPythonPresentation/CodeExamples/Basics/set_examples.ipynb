{
 "metadata": {
  "name": "",
  "signature": "sha256:a195d75f1dfc8f99d4a734179866d56cfcef6562a0ad51e995f1fec4abda239a"
 },
 "nbformat": 3,
 "nbformat_minor": 0,
 "worksheets": [
  {
   "cells": [
    {
     "cell_type": "code",
     "collapsed": false,
     "input": [
      "#!/usr/bin/env python\n",
      "\n",
      "# __future__ module helps with Python 2 to 3 conversions\n",
      "\n",
      "# division uses Python 3's division operator which always does float division\n",
      "# therefore 5 / 2 = 2.5 instead of 2\n",
      "# for integer division use //, 5 // 2 = 2\n",
      "from __future__ import division\n",
      "\n",
      "# print_function uses Python 3's print function which allows us to control\n",
      "# what is printed at the end using end:\n",
      "#          print('hello world', end='!@#') => hello world!@#\n",
      "from __future__ import print_function\n",
      "\n",
      "\n",
      "menu = {\"pancakes\", \"ham\", \"eggs\", \"bacon\"}\n",
      "new_menu = {\"coffee\", \"ham\", \"eggs\", \"bacon\", \"bagels\"}\n",
      "print('    menu: {}'.format(menu))\n",
      "print('new_menu: {}\\n'.format(new_menu))\n",
      "\n",
      "print('Difference:')\n",
      "print('menu.difference(new_menu): {}'.format(menu.difference(new_menu)))\n",
      "print('menu - new_menu: {}'.format(menu - new_menu))\n",
      "print('\\n')\n",
      "print('new_menu.difference(menu): {}'.format(new_menu.difference(menu)))\n",
      "print('new_menu - menu: {}'.format(new_menu - menu))\n",
      "print('\\n')\n",
      "\n",
      "print('Intersection:')\n",
      "print('new_menu.intersection(menu): {}'.format(new_menu.intersection(menu)))\n",
      "print('new_menu & menu: {}'.format(new_menu & menu))\n",
      "print('\\n')\n",
      "\n",
      "print('Union:')\n",
      "print('new_menu.union(menu): {}'.format(new_menu.union(menu)))\n",
      "print('new_menu | menu: {}'.format(new_menu | menu))\n",
      "print('\\n')\n",
      "\n",
      "print('Symmetric Difference:')\n",
      "print('new_menu.symmetric_difference(menu): {}'.format(new_menu.symmetric_difference(menu)))\n",
      "print('new_menu ^ menu: {}'.format(new_menu ^ menu))\n",
      "print('\\n')"
     ],
     "language": "python",
     "metadata": {},
     "outputs": [
      {
       "output_type": "stream",
       "stream": "stdout",
       "text": [
        "    menu: set(['pancakes', 'eggs', 'bacon', 'ham'])\n",
        "new_menu: set(['bagels', 'bacon', 'eggs', 'coffee', 'ham'])\n",
        "\n",
        "Difference:\n",
        "menu.difference(new_menu): set(['pancakes'])\n",
        "menu - new_menu: set(['pancakes'])\n",
        "\n",
        "\n",
        "new_menu.difference(menu): set(['bagels', 'coffee'])\n",
        "new_menu - menu: set(['bagels', 'coffee'])\n",
        "\n",
        "\n",
        "Intersection:\n",
        "new_menu.intersection(menu): set(['eggs', 'bacon', 'ham'])\n",
        "new_menu & menu: set(['eggs', 'bacon', 'ham'])\n",
        "\n",
        "\n",
        "Union:\n",
        "new_menu.union(menu): set(['coffee', 'ham', 'pancakes', 'bagels', 'bacon', 'eggs'])\n",
        "new_menu | menu: set(['coffee', 'ham', 'pancakes', 'bagels', 'bacon', 'eggs'])\n",
        "\n",
        "\n",
        "Symmetric Difference:\n",
        "new_menu.symmetric_difference(menu): set(['pancakes', 'coffee', 'bagels'])\n",
        "new_menu ^ menu: set(['pancakes', 'coffee', 'bagels'])\n",
        "\n",
        "\n"
       ]
      }
     ],
     "prompt_number": 1
    },
    {
     "cell_type": "code",
     "collapsed": false,
     "input": [],
     "language": "python",
     "metadata": {},
     "outputs": []
    }
   ],
   "metadata": {}
  }
 ]
}